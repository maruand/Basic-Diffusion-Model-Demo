{
 "cells": [
  {
   "cell_type": "markdown",
   "id": "eb37759d",
   "metadata": {},
   "source": [
    "## Imports"
   ]
  },
  {
   "cell_type": "code",
   "execution_count": 257,
   "id": "598842f2",
   "metadata": {},
   "outputs": [],
   "source": [
    "import cv2 as cv\n",
    "import numpy as np\n",
    "import matplotlib.pyplot as plt\n",
    "import torch.nn as nn\n",
    "import torch.utils.data as data\n",
    "import os\n",
    "from torchvision.io import decode_image, ImageReadMode\n",
    "from torchvision.transforms import v2\n",
    "import torch\n"
   ]
  },
  {
   "cell_type": "markdown",
   "id": "8df1a044",
   "metadata": {},
   "source": [
    "## Data Generation"
   ]
  },
  {
   "cell_type": "code",
   "execution_count": 236,
   "id": "5cbf2fdb",
   "metadata": {},
   "outputs": [
    {
     "data": {
      "text/plain": [
       "<matplotlib.image.AxesImage at 0x154840690>"
      ]
     },
     "execution_count": 236,
     "metadata": {},
     "output_type": "execute_result"
    },
    {
     "data": {
      "image/png": "[encoded data removed]",
      "text/plain": [
       "<Figure size 640x480 with 1 Axes>"
      ]
     },
     "metadata": {},
     "output_type": "display_data"
    }
   ],
   "source": [
    "def generate_random_shape(size, shape=None):\n",
    "    img = np.zeros(shape=(size, size), dtype=np.uint8)\n",
    "    if not shape:\n",
    "        shapes = ['rectangle', 'circle', 'line']#'triangle', 'line']\n",
    "        shape = np.random.choice(shapes)\n",
    "        thickness = np.random.choice([2,-1])\n",
    "    thickness = -1\n",
    "\n",
    "    color = np.random.randint(0,255)\n",
    "    \n",
    "    if shape == 'rectangle':\n",
    "        \n",
    "        x1, y1 = np.random.randint(10, 20, size=2)\n",
    "        x2, y2 = np.random.randint(40, 50, size=2)\n",
    "        \n",
    "        return cv.rectangle(img, pt1=(x1,y1),pt2=(x2,y2),color=color, thickness=thickness)\n",
    "    elif shape == 'circle':\n",
    "        x, y = np.random.randint(size//4,size-size//4,size=2)\n",
    "        radius = np.random.randint(5,min(size-x,size-y))//2\n",
    "        return cv.circle(img, center=(x, y), radius=radius, color=color, thickness=thickness)\n",
    "    elif shape == 'triangle':\n",
    "        pass\n",
    "    elif shape == 'line':\n",
    "        x1, y1 = np.random.randint(size//4, size-size//4, size=2)\n",
    "        x2, y2 = np.random.randint(size//4, size-size//4, size=2)\n",
    "        \n",
    "        return cv.line(img, pt1=(x1, y1), pt2=(x2, y2), color=color, thickness=1)\n",
    "\n",
    "plt.imshow(generate_random_shape(64,shape='rectangle'), cmap='grey')"
   ]
  },
  {
   "cell_type": "code",
   "execution_count": 238,
   "id": "6a1082b8",
   "metadata": {},
   "outputs": [],
   "source": [
    "for i in range(3000):\n",
    "    plt.imsave(f'./data/data_rect_3000/img_{i}.png',generate_random_shape(64,shape='rectangle'),cmap='grey')"
   ]
  },
  {
   "cell_type": "code",
   "execution_count": 163,
   "id": "199419e5",
   "metadata": {},
   "outputs": [],
   "source": [
    "for i in range(3000):\n",
    "    plt.imsave(f'./data/data_w_lines_3000/img_{i}.png',generate_random_shape(64),cmap='grey')\n",
    "\n",
    "for i in range(3000):\n",
    "    plt.imsave(f'./data/data_3000/img_{i}.png',generate_random_shape(64),cmap='grey')"
   ]
  },
  {
   "cell_type": "code",
   "execution_count": 239,
   "id": "cc387a72",
   "metadata": {},
   "outputs": [
    {
     "name": "stdout",
     "output_type": "stream",
     "text": [
      "[ 909 1321  879 1039  909 1432 1728 1984]\n"
     ]
    },
    {
     "data": {
      "image/png": "[encoded data removed]",
      "text/plain": [
       "<Figure size 1600x800 with 8 Axes>"
      ]
     },
     "metadata": {},
     "output_type": "display_data"
    }
   ],
   "source": [
    "imgs_idx = np.random.choice(range(3000),size=(8))\n",
    "print(imgs_idx)\n",
    "\n",
    "figure1 = plt.figure(figsize=(16,8))\n",
    "i=0\n",
    "for idx in imgs_idx:\n",
    "\n",
    "    img = cv.imread(f'./data/data_rect_3000/img_{idx}.png', cv.IMREAD_GRAYSCALE)\n",
    "    \n",
    "    ax = figure1.add_subplot(2, 4, i+1)\n",
    "    ax.imshow(img, cmap='gray')\n",
    "    ax.axis('off')\n",
    "    ax.set_title(f'Image {idx}', fontsize=10)\n",
    "    i += 1\n",
    "    \n"
   ]
  },
  {
   "cell_type": "code",
   "execution_count": 259,
   "id": "84098ede",
   "metadata": {},
   "outputs": [],
   "source": [
    "class image_dataset(data.Dataset):\n",
    "    def __init__(self, path, normalize=True):\n",
    "        self.normalize = normalize\n",
    "        self.path = path\n",
    "    \n",
    "    def __getitem__(self,idx):\n",
    "        img_path = os.path.join(self.path,f'img_{idx}.png')\n",
    "        image = decode_image(img_path,mode=ImageReadMode.GRAY).float()\n",
    "        if self.normalize:\n",
    "            normalizer = v2.Normalize(mean=[0], std=[1])\n",
    "            image = normalizer(image)\n",
    "        return image\n",
    "    def __len__(self):\n",
    "        return len([f for f in os.listdir(self.path) if os.path.isfile(os.path.join(self.path, f))])\n",
    "\n",
    "img_data = image_dataset('/Users/marcusandersson/Documents/Basic-Diffusion-Model-Demo/data/data_rect_3000')\n",
    "\n",
    "train_dataloader = data.DataLoader(img_data, batch_size=32, shuffle=True)"
   ]
  },
  {
   "cell_type": "markdown",
   "id": "661c1589",
   "metadata": {},
   "source": [
    "## U-Net"
   ]
  },
  {
   "cell_type": "code",
   "execution_count": null,
   "id": "080b2ec7",
   "metadata": {},
   "outputs": [],
   "source": [
    "\n",
    "\n",
    "class ConvolutionBlock(nn.Module):\n",
    "    def __init__(self, in_channels, out_channels):\n",
    "        super(ConvolutionBlock, self).__init__()\n",
    "        self.conv = nn.Sequential(\n",
    "            nn.Conv2d(in_channels, out_channels, kernel_size=3, padding=1),\n",
    "            nn.ReLU(inplace=True),\n",
    "            nn.Conv2d(out_channels, out_channels, kernel_size=3, padding=1),\n",
    "            nn.ReLU(inplace=True)\n",
    "        )\n",
    "\n",
    "    def forward(self, x):\n",
    "        return self.conv(x)\n",
    "\n",
    "class EncoderBlock(nn.Module):\n",
    "    def __init__(self, in_channels, out_channels):\n",
    "        super(EncoderBlock, self).__init__()\n",
    "        self.conv_block = ConvolutionBlock(in_channels, out_channels)\n",
    "        self.pool = nn.MaxPool2d(kernel_size=2, stride=2)\n",
    "\n",
    "    def forward(self, x):\n",
    "        x = self.conv_block(x)\n",
    "        p = self.pool(x)\n",
    "        return x, p\n",
    "\n",
    "class DecoderBlock(nn.Module):\n",
    "    def __init__(self, in_channels, out_channels):\n",
    "        super(DecoderBlock, self).__init__()\n",
    "        self.upconv = nn.ConvTranspose2d(in_channels, out_channels, kernel_size=2, stride=2)\n",
    "        self.conv_block = ConvolutionBlock(in_channels, out_channels)\n",
    "\n",
    "    def forward(self, x, skip_features):\n",
    "        x = self.upconv(x)\n",
    "        x = torch.cat((x, skip_features), dim=1)\n",
    "        x = self.conv_block(x)\n",
    "        return x\n",
    "\n",
    "class UNet(nn.Module):\n",
    "    def __init__(self, time_dim=1):\n",
    "        super(UNet, self).__init__()\n",
    "\n",
    "        self.time_mlp = nn.Sequential(\n",
    "                    nn.Linear(time_dim, 256),\n",
    "                    nn.ReLU(),\n",
    "                    nn.Linear(256, 512)\n",
    "        )\n",
    "\n",
    "        self.enc1 = EncoderBlock(1, 64)\n",
    "        self.enc2 = EncoderBlock(64, 128)\n",
    "        self.enc3 = EncoderBlock(128, 256)\n",
    "        self.enc4 = EncoderBlock(256, 512)\n",
    "\n",
    "        self.bottleneck = ConvolutionBlock(512, 1024)\n",
    "        \n",
    "\n",
    "        self.dec4 = DecoderBlock(1024, 512)\n",
    "        self.dec3 = DecoderBlock(512, 256)\n",
    "        self.dec2 = DecoderBlock(256, 128)\n",
    "        self.dec1 = DecoderBlock(128, 64)\n",
    "\n",
    "        self.final = nn.Conv2d(64, 1, kernel_size=1)\n",
    "\n",
    "    def forward(self, x, t):\n",
    "        # Encode timestep\n",
    "        t = t.float().unsqueeze(-1)  # Shape: [batch_size, 1]\n",
    "        t_emb = self.time_mlp(t)  # Shape: [batch_size, 1024]\n",
    "        t_emb = t_emb.unsqueeze(-1).unsqueeze(-1)  # Shape: [batch_size, 1024, 1, 1]\n",
    "\n",
    "\n",
    "        # Encoder\n",
    "        enc1, p1 = self.enc1(x)\n",
    "        enc2, p2 = self.enc2(p1)\n",
    "        enc3, p3 = self.enc3(p2)\n",
    "        enc4, p4 = self.enc4(p3)\n",
    "\n",
    "        # Bottleneck\n",
    "        bottleneck = self.bottleneck(p4 + t_emb)  # Inject timestep embedding\n",
    "\n",
    "        # Decoder\n",
    "        dec4 = self.dec4(bottleneck, enc4)\n",
    "        dec3 = self.dec3(dec4, enc3)\n",
    "        dec2 = self.dec2(dec3, enc2)\n",
    "        dec1 = self.dec1(dec2, enc1)\n",
    "\n",
    "        # Final layer\n",
    "        return self.final(dec1)"
   ]
  },
  {
   "cell_type": "markdown",
   "id": "30a379c9",
   "metadata": {},
   "source": [
    "## Diffusion Process"
   ]
  },
  {
   "cell_type": "markdown",
   "id": "ba0896bc",
   "metadata": {},
   "source": [
    "### Positional encoding"
   ]
  },
  {
   "cell_type": "code",
   "execution_count": 183,
   "id": "3b089cea",
   "metadata": {},
   "outputs": [],
   "source": [
    "class SinusoidalEmbedding(nn.Module):\n",
    "    def __init__(self, embedding_dim):\n",
    "        super().__init__()\n",
    "        self.embedding_dim = embedding_dim\n",
    "\n",
    "    def forward(self, timesteps):\n",
    "        device = timesteps.device\n",
    "        half_dim = self.embedding_dim // 2\n",
    "        div_term = torch.exp(-torch.arange(0, half_dim, device=device) * (np.log(10000.0) / half_dim))\n",
    "        angles = timesteps[:, None] * div_term\n",
    "        embeddings = torch.cat([torch.sin(angles), torch.cos(angles)], dim=-1)\n",
    "        return embeddings"
   ]
  },
  {
   "cell_type": "markdown",
   "id": "e5947d22",
   "metadata": {},
   "source": [
    "### Forward diffusion"
   ]
  },
  {
   "cell_type": "code",
   "execution_count": 264,
   "id": "3cf078df",
   "metadata": {},
   "outputs": [],
   "source": [
    "class Diffusion:\n",
    "    def __init__(self, timesteps, beta_start=0.0001, beta_end=0.02, variance_schedule='linear'):\n",
    "        self.timesteps = timesteps\n",
    "        if variance_schedule == 'linear':\n",
    "            self.beta = torch.linspace(beta_start, beta_end, timesteps, device='mps')\n",
    "        elif variance_schedule == 'cosine':\n",
    "            s = 0.008  # Small constant to prevent division by zero\n",
    "            x = torch.linspace(0, timesteps, timesteps + 1, device='mps')\n",
    "            alphas_cumprod = torch.cos(((x / timesteps) + s) / (1 + s) * torch.pi * 0.5) ** 2\n",
    "            alphas_cumprod = alphas_cumprod / alphas_cumprod[0]\n",
    "            self.alpha_bar = alphas_cumprod[:-1]\n",
    "            self.beta = 1 - (self.alpha_bar[1:] / self.alpha_bar[:-1])\n",
    "            self.beta = torch.cat((self.beta, torch.tensor([beta_end], device='mps')))\n",
    "        else:\n",
    "            raise ValueError(\"Unsupported variance schedule. Use 'linear' or 'cosine'.\")\n",
    "        self.alpha = 1.0 - self.beta\n",
    "        self.alpha_bar = torch.cumprod(self.alpha, dim=0)\n",
    "\n",
    "    def loss(self, noise, predicted_noise):\n",
    "        return torch.nn.functional.mse_loss(noise, predicted_noise)\n",
    "\n",
    "    def forward(self, x0, t):\n",
    "        # print('x0:',x0.shape)\n",
    "        noise = torch.randn_like(x0, device='mps')\n",
    "        sqrt_alpha_bar = torch.sqrt(self.alpha_bar[t])[:, None, None, None]\n",
    "        sqrt_one_minus_alpha_bar = torch.sqrt(1 - self.alpha_bar[t])[:, None, None, None]\n",
    "        x_t = sqrt_alpha_bar * x0 + sqrt_one_minus_alpha_bar * noise\n",
    "        # print('x_t:',x_t.shape)\n",
    "        return x_t, noise\n",
    "\n",
    "    def backward(self, model, x_t, t):\n",
    "        predicted_noise = model(x_t, t)\n",
    "        beta_t = self.beta[t][:, None, None, None]\n",
    "        alpha_t = self.alpha[t][:, None, None, None]\n",
    "        alpha_bar_t = self.alpha_bar[t][:, None, None, None]\n",
    "        sqrt_recip_alpha = torch.sqrt(1.0 / alpha_t)\n",
    "        sqrt_one_minus_alpha_bar = torch.sqrt(1 - alpha_bar_t)\n",
    "        posterior_mean = sqrt_recip_alpha * (x_t - beta_t * predicted_noise / sqrt_one_minus_alpha_bar)\n",
    "        return posterior_mean, predicted_noise"
   ]
  },
  {
   "cell_type": "code",
   "execution_count": null,
   "id": "c3daa8a7",
   "metadata": {},
   "outputs": [
    {
     "name": "stdout",
     "output_type": "stream",
     "text": [
      "torch.Size([1, 64, 64])\n"
     ]
    },
    {
     "data": {
      "image/png": "[encoded data removed]",
      "text/plain": [
       "<Figure size 640x480 with 1 Axes>"
      ]
     },
     "metadata": {},
     "output_type": "display_data"
    }
   ],
   "source": [
    "img = decode_image('/Users/marcusandersson/Documents/Basic-Diffusion-Model-Demo/data/data_rect_3000/img_0.png',mode=ImageReadMode.GRAY)\n",
    "print(img.shape)\n",
    "\n",
    "img_np = img.permute(1, 2, 0).numpy()\n",
    "\n",
    "# Plot\n",
    "plt.imshow(img_np)\n",
    "plt.axis(\"off\")\n",
    "plt.show()"
   ]
  },
  {
   "cell_type": "markdown",
   "id": "0fc715be",
   "metadata": {},
   "source": [
    "## Training"
   ]
  },
  {
   "cell_type": "code",
   "execution_count": null,
   "id": "2bee9e62",
   "metadata": {},
   "outputs": [
    {
     "name": "stdout",
     "output_type": "stream",
     "text": [
      "Epoch 0 | Loss: 0.5903657674789429\n"
     ]
    }
   ],
   "source": [
    "device = 'mps'\n",
    "epochs = 50\n",
    "timesteps = 100\n",
    "\n",
    "learning_rate = 0.0001\n",
    "\n",
    "diffusion = Diffusion(timesteps=timesteps,variance_schedule='cosine')\n",
    "\n",
    "UNet_model = UNet()\n",
    "UNet_model.to(device)\n",
    "\n",
    "optimizer = torch.optim.Adam(UNet_model.parameters(), lr=learning_rate)\n",
    "\n",
    "for epoch in range(epochs):\n",
    "    UNet_model.train()\n",
    "    for step, batch in enumerate(train_dataloader):\n",
    "        batch = batch.to(device)\n",
    "        t = torch.randint(0, timesteps, (batch.size(0),), device=device).long()\n",
    "        x_t, noise = diffusion.forward(batch, t)\n",
    "        predicted_noise = UNet_model(x_t,t)\n",
    "        loss = diffusion.loss(noise, predicted_noise)\n",
    "\n",
    "        optimizer.zero_grad()\n",
    "        loss.backward()\n",
    "        optimizer.step()\n",
    "\n",
    "    \n",
    "    print(f'Epoch {epoch} | Loss: {loss.item()}')"
   ]
  },
  {
   "cell_type": "markdown",
   "id": "bba052cd",
   "metadata": {},
   "source": [
    "## Sampling"
   ]
  },
  {
   "cell_type": "code",
   "execution_count": 272,
   "id": "3b46aa51",
   "metadata": {},
   "outputs": [
    {
     "data": {
      "image/png": "[encoded data removed]",
      "text/plain": [
       "<Figure size 1600x800 with 8 Axes>"
      ]
     },
     "metadata": {},
     "output_type": "display_data"
    }
   ],
   "source": [
    "def sample(diffusion, model, shape, timesteps, device='mps'):\n",
    "    model.eval()\n",
    "    with torch.no_grad():\n",
    "        x_t = torch.randn(shape, device=device)  # Start with random noise\n",
    "        for t in reversed(range(timesteps)):\n",
    "            t_tensor = torch.full((shape[0],), t, device=device, dtype=torch.long)\n",
    "            x_t, _ = diffusion.backward(model, x_t, t_tensor)\n",
    "        return x_t\n",
    "\n",
    "# Example usage\n",
    "sampled_images = sample(diffusion, UNet_model, shape=(8, 1, 64, 64), timesteps=timesteps, device=device)\n",
    "\n",
    "# Visualize the sampled images\n",
    "figure = plt.figure(figsize=(16, 8))\n",
    "for i in range(8):\n",
    "    ax = figure.add_subplot(2, 4, i + 1)\n",
    "    ax.imshow(sampled_images[i, 0].cpu().numpy(), cmap='gray')\n",
    "    ax.axis('off')\n",
    "    ax.set_title(f'Sampled Image {i+1}', fontsize=10)\n",
    "plt.show()"
   ]
  },
  {
   "cell_type": "code",
   "execution_count": null,
   "id": "a16fbed9",
   "metadata": {},
   "outputs": [],
   "source": []
  }
 ],
 "metadata": {
  "kernelspec": {
   "display_name": "venv",
   "language": "python",
   "name": "python3"
  },
  "language_info": {
   "codemirror_mode": {
    "name": "ipython",
    "version": 3
   },
   "file_extension": ".py",
   "mimetype": "text/x-python",
   "name": "python",
   "nbconvert_exporter": "python",
   "pygments_lexer": "ipython3",
   "version": "3.13.1"
  }
 },
 "nbformat": 4,
 "nbformat_minor": 5
}
